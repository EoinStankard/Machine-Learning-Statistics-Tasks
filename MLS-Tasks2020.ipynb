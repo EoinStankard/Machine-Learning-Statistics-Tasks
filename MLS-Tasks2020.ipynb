{
 "cells": [
  {
   "cell_type": "markdown",
   "metadata": {},
   "source": [
    "# Tasks 2020"
   ]
  },
  {
   "cell_type": "markdown",
   "metadata": {},
   "source": [
    "## Task One\n",
    "Write a Python function called sqrt2 that calculates and\n",
    "prints to the screen the square root of 2 to 100 decimal places. Your code should\n",
    "not depend on any module from the standard library1 or otherwise. You should\n",
    "research the task first and include references and a description of your algorithm.\n"
   ]
  },
  {
   "cell_type": "code",
   "execution_count": 174,
   "metadata": {},
   "outputs": [],
   "source": [
    "def sqrt2(x):\n",
    "    #Initial guess for the the square root of z\n",
    "    z = x / 2\n",
    "    #Loop until we're happy with the accuracy.\n",
    "    while abs(x - (z * z))>0.0000001:\n",
    "        #Calculate a better guess for the square root.\n",
    "        z -= (z * z - x) / (2 * z)\n",
    "    #Return the approximate square for root x and round it to 100 places\n",
    "    return format(z, '.100f')"
   ]
  },
  {
   "cell_type": "code",
   "execution_count": 175,
   "metadata": {},
   "outputs": [
    {
     "data": {
      "text/plain": [
       "'1.4142135623746898698271934335934929549694061279296875000000000000000000000000000000000000000000000000'"
      ]
     },
     "execution_count": 175,
     "metadata": {},
     "output_type": "execute_result"
    }
   ],
   "source": [
    "#Calling the square root function \"sqrt2\" with input of 2\n",
    "sqrt2(2)"
   ]
  },
  {
   "cell_type": "code",
   "execution_count": 176,
   "metadata": {},
   "outputs": [
    {
     "data": {
      "text/plain": [
       "'2.0000000000000000000000000000000000000000000000000000000000000000000000000000000000000000000000000000'"
      ]
     },
     "execution_count": 176,
     "metadata": {},
     "output_type": "execute_result"
    }
   ],
   "source": [
    "#Calling the square root function \"sqrt2\" with input of 2\n",
    "sqrt2(4)"
   ]
  },
  {
   "cell_type": "code",
   "execution_count": 177,
   "metadata": {},
   "outputs": [
    {
     "data": {
      "text/plain": [
       "'4.0000000000000044408920985006261616945266723632812500000000000000000000000000000000000000000000000000'"
      ]
     },
     "execution_count": 177,
     "metadata": {},
     "output_type": "execute_result"
    }
   ],
   "source": [
    "#Calling the square root function \"sqrt2\" with input of 2\n",
    "sqrt2(16)"
   ]
  },
  {
   "cell_type": "code",
   "execution_count": 178,
   "metadata": {
    "scrolled": true
   },
   "outputs": [
    {
     "data": {
      "text/plain": [
       "1.4142135623730951"
      ]
     },
     "execution_count": 178,
     "metadata": {},
     "output_type": "execute_result"
    }
   ],
   "source": [
    "#Importing and calling the sqrt function from the math library to compare\n",
    "import math\n",
    "math.sqrt(2)"
   ]
  },
  {
   "cell_type": "markdown",
   "metadata": {},
   "source": [
    "## Task Two\n",
    "\n",
    "The Chi-squared test for independence is a statistical\n",
    "hypothesis test like a t-test. It is used to analyse whether two categorical variables\n",
    "are independent. The Wikipedia article gives the table below as an example [4],\n",
    "stating the Chi-squared value based on it is approximately 24.6. Use scipy.stats\n",
    "to verify this value and calculate the associated p value. You should include a short\n",
    "note with references justifying your analysis in a markdown cell.\n",
    "![title](images/task2.png)\n"
   ]
  },
  {
   "cell_type": "code",
   "execution_count": 179,
   "metadata": {},
   "outputs": [],
   "source": [
    "from scipy.stats import chi2_contingency\n",
    "import pandas as pd"
   ]
  },
  {
   "cell_type": "markdown",
   "metadata": {},
   "source": [
    "#### Create a data frame similar to the one in the description"
   ]
  },
  {
   "cell_type": "code",
   "execution_count": 180,
   "metadata": {},
   "outputs": [
    {
     "data": {
      "text/html": [
       "<div>\n",
       "<style scoped>\n",
       "    .dataframe tbody tr th:only-of-type {\n",
       "        vertical-align: middle;\n",
       "    }\n",
       "\n",
       "    .dataframe tbody tr th {\n",
       "        vertical-align: top;\n",
       "    }\n",
       "\n",
       "    .dataframe thead th {\n",
       "        text-align: right;\n",
       "    }\n",
       "</style>\n",
       "<table border=\"1\" class=\"dataframe\">\n",
       "  <thead>\n",
       "    <tr style=\"text-align: right;\">\n",
       "      <th></th>\n",
       "      <th>A</th>\n",
       "      <th>B</th>\n",
       "      <th>C</th>\n",
       "      <th>D</th>\n",
       "    </tr>\n",
       "  </thead>\n",
       "  <tbody>\n",
       "    <tr>\n",
       "      <th>White Collar</th>\n",
       "      <td>90</td>\n",
       "      <td>60</td>\n",
       "      <td>104</td>\n",
       "      <td>95</td>\n",
       "    </tr>\n",
       "    <tr>\n",
       "      <th>Blue Collar</th>\n",
       "      <td>30</td>\n",
       "      <td>50</td>\n",
       "      <td>51</td>\n",
       "      <td>20</td>\n",
       "    </tr>\n",
       "    <tr>\n",
       "      <th>No Collar</th>\n",
       "      <td>30</td>\n",
       "      <td>40</td>\n",
       "      <td>45</td>\n",
       "      <td>35</td>\n",
       "    </tr>\n",
       "  </tbody>\n",
       "</table>\n",
       "</div>"
      ],
      "text/plain": [
       "               A   B    C   D\n",
       "White Collar  90  60  104  95\n",
       "Blue Collar   30  50   51  20\n",
       "No Collar     30  40   45  35"
      ]
     },
     "execution_count": 180,
     "metadata": {},
     "output_type": "execute_result"
    }
   ],
   "source": [
    "collars = pd.DataFrame(\n",
    "    [\n",
    "        [90,60,104,95],\n",
    "        [30,50,51,20],\n",
    "        [30,40,45,35]\n",
    "    ],\n",
    "    index=[\"White Collar\",\"Blue Collar\",\"No Collar\"],\n",
    "    columns=[\"A\",\"B\",\"C\",\"D\"])\n",
    "collars"
   ]
  },
  {
   "cell_type": "markdown",
   "metadata": {},
   "source": [
    "#### chi2_contingency\n",
    "SciPy’s chi2_contingency() returns four values, 𝜒2 value, p-value, degree of freedom and expected values.\n",
    "\n",
    "Returned values below"
   ]
  },
  {
   "cell_type": "code",
   "execution_count": 181,
   "metadata": {},
   "outputs": [
    {
     "data": {
      "text/plain": [
       "(24.5712028585826,\n",
       " 0.0004098425861096696,\n",
       " 6,\n",
       " array([[ 80.53846154,  80.53846154, 107.38461538,  80.53846154],\n",
       "        [ 34.84615385,  34.84615385,  46.46153846,  34.84615385],\n",
       "        [ 34.61538462,  34.61538462,  46.15384615,  34.61538462]]))"
      ]
     },
     "execution_count": 181,
     "metadata": {},
     "output_type": "execute_result"
    }
   ],
   "source": [
    "chi2_contingency(collars)"
   ]
  },
  {
   "cell_type": "markdown",
   "metadata": {},
   "source": [
    "#### Expected Values\n",
    "You can find the expected values at the forth in the returned value. It is in an array form so i will create a new table to display them.\n",
    "\n",
    "The table below is called a contingency table, These values come from the following equation\n",
    "![title](images/task2-equation.png)\n",
    "\n",
    "So for example \"White Collar (A)\" would be (349*150)/650 = 80.54"
   ]
  },
  {
   "cell_type": "code",
   "execution_count": 182,
   "metadata": {},
   "outputs": [
    {
     "data": {
      "text/html": [
       "<div>\n",
       "<style scoped>\n",
       "    .dataframe tbody tr th:only-of-type {\n",
       "        vertical-align: middle;\n",
       "    }\n",
       "\n",
       "    .dataframe tbody tr th {\n",
       "        vertical-align: top;\n",
       "    }\n",
       "\n",
       "    .dataframe thead th {\n",
       "        text-align: right;\n",
       "    }\n",
       "</style>\n",
       "<table border=\"1\" class=\"dataframe\">\n",
       "  <thead>\n",
       "    <tr style=\"text-align: right;\">\n",
       "      <th></th>\n",
       "      <th>A</th>\n",
       "      <th>B</th>\n",
       "      <th>C</th>\n",
       "      <th>D</th>\n",
       "    </tr>\n",
       "  </thead>\n",
       "  <tbody>\n",
       "    <tr>\n",
       "      <th>White Collar</th>\n",
       "      <td>80.54</td>\n",
       "      <td>80.54</td>\n",
       "      <td>107.38</td>\n",
       "      <td>80.54</td>\n",
       "    </tr>\n",
       "    <tr>\n",
       "      <th>Blue Collar</th>\n",
       "      <td>34.85</td>\n",
       "      <td>34.85</td>\n",
       "      <td>46.46</td>\n",
       "      <td>34.85</td>\n",
       "    </tr>\n",
       "    <tr>\n",
       "      <th>No Collar</th>\n",
       "      <td>34.62</td>\n",
       "      <td>34.62</td>\n",
       "      <td>46.15</td>\n",
       "      <td>34.62</td>\n",
       "    </tr>\n",
       "  </tbody>\n",
       "</table>\n",
       "</div>"
      ],
      "text/plain": [
       "                  A      B       C      D\n",
       "White Collar  80.54  80.54  107.38  80.54\n",
       "Blue Collar   34.85  34.85   46.46  34.85\n",
       "No Collar     34.62  34.62   46.15  34.62"
      ]
     },
     "execution_count": 182,
     "metadata": {},
     "output_type": "execute_result"
    }
   ],
   "source": [
    "df=chi2_contingency(collars)[3]\n",
    "pd.DataFrame(\n",
    "    data=df[:,:], \n",
    "    index=[\"White Collar\",\"Blue Collar\",\"No Collar\"],\n",
    "    columns=[\"A\",\"B\",\"C\",\"D\"]\n",
    ").round(2)"
   ]
  },
  {
   "cell_type": "markdown",
   "metadata": {},
   "source": [
    "#### Chi-squared value\n",
    "\n",
    "The Chi Square value is the first returned value"
   ]
  },
  {
   "cell_type": "code",
   "execution_count": 183,
   "metadata": {},
   "outputs": [
    {
     "data": {
      "text/plain": [
       "(24.5712028585826,\n",
       " 0.0004098425861096696,\n",
       " 6,\n",
       " array([[ 80.53846154,  80.53846154, 107.38461538,  80.53846154],\n",
       "        [ 34.84615385,  34.84615385,  46.46153846,  34.84615385],\n",
       "        [ 34.61538462,  34.61538462,  46.15384615,  34.61538462]]))"
      ]
     },
     "execution_count": 183,
     "metadata": {},
     "output_type": "execute_result"
    }
   ],
   "source": [
    "chi2_contingency(collars)"
   ]
  },
  {
   "cell_type": "code",
   "execution_count": 184,
   "metadata": {},
   "outputs": [
    {
     "data": {
      "text/plain": [
       "24.6"
      ]
     },
     "execution_count": 184,
     "metadata": {},
     "output_type": "execute_result"
    }
   ],
   "source": [
    "chisquare=chi2_contingency(collars)[0]\n",
    "chisquare.round(1)"
   ]
  },
  {
   "cell_type": "markdown",
   "metadata": {},
   "source": [
    "#### P-Value\n",
    "p-value measures the probability of seeing the effect when the null hypothesis is true.\n",
    "You can find the p-value at the second in the returned value."
   ]
  },
  {
   "cell_type": "code",
   "execution_count": 185,
   "metadata": {},
   "outputs": [
    {
     "data": {
      "text/plain": [
       "(24.5712028585826,\n",
       " 0.0004098425861096696,\n",
       " 6,\n",
       " array([[ 80.53846154,  80.53846154, 107.38461538,  80.53846154],\n",
       "        [ 34.84615385,  34.84615385,  46.46153846,  34.84615385],\n",
       "        [ 34.61538462,  34.61538462,  46.15384615,  34.61538462]]))"
      ]
     },
     "execution_count": 185,
     "metadata": {},
     "output_type": "execute_result"
    }
   ],
   "source": [
    "chi2_contingency(collars)"
   ]
  },
  {
   "cell_type": "code",
   "execution_count": 186,
   "metadata": {},
   "outputs": [
    {
     "data": {
      "text/plain": [
       "0.0004098425861096696"
      ]
     },
     "execution_count": 186,
     "metadata": {},
     "output_type": "execute_result"
    }
   ],
   "source": [
    "pvalue=chi2_contingency(collars)[1]\n",
    "pvalue"
   ]
  },
  {
   "cell_type": "markdown",
   "metadata": {},
   "source": [
    "### Chi-Squared Value simplified\n",
    "\n",
    "Below i show how to get the chi squared value in only two lines of code, Third line is rounding the value to one decimal place"
   ]
  },
  {
   "cell_type": "code",
   "execution_count": 187,
   "metadata": {},
   "outputs": [
    {
     "data": {
      "text/plain": [
       "24.6"
      ]
     },
     "execution_count": 187,
     "metadata": {},
     "output_type": "execute_result"
    }
   ],
   "source": [
    "CollarRows =[[90,60,104,95],[30,50,51,20],[30,40,45,35]]\n",
    "ChiValue = chi2_contingency(collars)[0]\n",
    "ChiValue.round(1)"
   ]
  },
  {
   "cell_type": "markdown",
   "metadata": {},
   "source": [
    "## Task Three\n",
    "The standard deviation of an array of numbers x is\n",
    "calculated using numpy as np.sqrt(np.sum((x - np.mean(x))**(2)/len(x)) .\n",
    "However, Microsoft Excel has two different versions of the standard deviation\n",
    "calculation, STDEV.P and STDEV.S . The STDEV.P function performs the above\n",
    "calculation but in the STDEV.S calculation the division is by len(x)-1 rather\n",
    "than len(x) . \n",
    "\n",
    "Research these Excel functions, writing a note in a Markdown cell\n",
    "about the difference between them. Then use numpy to perform a simulation\n",
    "demonstrating that the STDEV.S calculation is a better estimate for the standard\n",
    "deviation of a population when performed on a sample. Note that part of this task\n",
    "is to figure out the terminology in the previous sentence.\n"
   ]
  },
  {
   "cell_type": "markdown",
   "metadata": {},
   "source": [
    "#### STDEV.P vs STDEV.S\n",
    "Standard deviation is a measure of how much variance there is in a set of numbers compared to the average of the numbers. \n",
    "\n",
    "STDEV.P assumes that its arguments are the entire population.The standard deviation is calculated using the \"n\" method. This will give the actual standard deviation on a data sample\n",
    "\n",
    "STDEV.S assumes that its arguments are a sample of the population. If your data represents the entire population, then compute the standard deviation using STDEV.P. The standard deviation is calculated using the \"n-1\" method. The sample standard deviation is an estimate what the true population standard deviation is based on a data sample.\n",
    "\n",
    "If both STDEV.P and STDEV.S were given the same values, the sample standard deviation would give back a higher value due to the denominator \"n-1\". This is because a sample standard deviation tends to underestimate the true population standard deviation\n",
    "\n",
    "For large sample sizes, STDEV.S and STDEV.P return approximately equal values.\n",
    "\n",
    "The difference between the two standard deviations all depends on what the scenario is. The sample deviation is more commonly used as usually we do not have access to the entire population of data.\n",
    "\n",
    "STDEV.P Formula   ![title](images/STDEVP.png)\n",
    "\n",
    "STDEV.S Formula   ![title](images/STDEVS.png)\n",
    "\n",
    "\n",
    "### Calculating STDEV.S\n",
    "Formula: np.sqrt(np.sum((x - np.mean(x))**(2)/len(x)-1)"
   ]
  },
  {
   "cell_type": "code",
   "execution_count": 188,
   "metadata": {},
   "outputs": [
    {
     "name": "stdout",
     "output_type": "stream",
     "text": [
      "Population Size: 1000\n",
      "Sample Size: 200\n",
      "Sample Standard Deviation: 27.73808540453987\n"
     ]
    }
   ],
   "source": [
    "import numpy as np # importing numpy to generate random numbers for dataset\n",
    "#generate an array of 1000 random numbers for population\n",
    "population = np.random.randint(1,100,1000) \n",
    "#create and array sample_x that takes a sample of the population data\n",
    "sample_x = population[200:400]\n",
    "#get the length of the sample_x\n",
    "sample_len = len(sample_x)\n",
    "#get the average(mean) of sample_x\n",
    "sample_mean = sample_x.mean()\n",
    "#start to put together the formula in description above\n",
    "sum1 = (sample_x - sample_mean)**2/(sample_len-1)\n",
    "sample_sum = np.sum(sum1)\n",
    "STDEVS = np.sqrt(sample_sum)\n",
    "#print Results\n",
    "print(f\"Population Size: {len(population)}\\nSample Size: {sample_len}\\nSample Standard Deviation: {STDEVS}\")"
   ]
  },
  {
   "cell_type": "markdown",
   "metadata": {},
   "source": [
    "### Calculating STDEV.P\n",
    "Formula: np.sqrt(np.sum((x - np.mean(x))**(2)/len(x))"
   ]
  },
  {
   "cell_type": "code",
   "execution_count": 189,
   "metadata": {},
   "outputs": [
    {
     "name": "stdout",
     "output_type": "stream",
     "text": [
      "Population Size: 1000\n",
      "Population Standard Deviation: 28.392928978884864\n",
      "Sample Size: 200\n",
      "Sample Standard Deviation: 27.73808540453987\n"
     ]
    }
   ],
   "source": [
    "#get the length of the population\n",
    "pop_len = len(population)\n",
    "#get the average(mean) of population\n",
    "pop_mean = population.mean()\n",
    "#start to put together the formula in description above\n",
    "sum2 = (population - pop_mean)**2/(pop_len)\n",
    "pop_sum = np.sum(sum2)\n",
    "STDEVP=np.sqrt(pop_sum)\n",
    "#print Results\n",
    "print(f\"Population Size: {pop_len}\\nPopulation Standard Deviation: {STDEVP}\\nSample Size: {sample_len}\\nSample Standard Deviation: {STDEVS}\")"
   ]
  },
  {
   "cell_type": "markdown",
   "metadata": {},
   "source": [
    "### References\n",
    "\n",
    "1. https://tour.golang.org/flowcontrol/8\n",
    "2. https://docs.python.org/3/tutorial/floatingpoint.html\n",
    "3. https://realpython.com/python-square-root-function/\n",
    "4. https://en.wikipedia.org/wiki/Chi-squared_test\n",
    "5. https://towardsdatascience.com/gentle-introduction-to-chi-square-test-for-independence-7182a7414a95\n",
    "6. https://exceljet.net/excel-functions/excel-stdev.p-function#:~:text=of%20the%20numbers.-,The%20STDEV.,S%20function.\n",
    "7. https://exceljet.net/excel-functions/excel-stdev.s-function#:~:text=The%20STDEV.,The%20STDEV.\n",
    "8. https://stackoverflow.com/questions/10897339/python-fetch-first-10-results-from-a-list\n",
    "9. https://www.youtube.com/watch?v=W7q8kfs1bNI\n",
    "10. https://www.khanacademy.org/math/statistics-probability/summarizing-quantitative-data/variance-standard-deviation-sample/a/population-and-sample-standard-deviation-review\n",
    "11. https://support.microsoft.com/en-us/office/stdev-p-function-6e917c05-31a0-496f-ade7-4f4e7462f285\n",
    "12. https://numpy.org/doc/stable/reference/random/generated/numpy.random.standard_normal.html"
   ]
  }
 ],
 "metadata": {
  "kernelspec": {
   "display_name": "Python 3",
   "language": "python",
   "name": "python3"
  },
  "language_info": {
   "codemirror_mode": {
    "name": "ipython",
    "version": 3
   },
   "file_extension": ".py",
   "mimetype": "text/x-python",
   "name": "python",
   "nbconvert_exporter": "python",
   "pygments_lexer": "ipython3",
   "version": "3.7.7"
  }
 },
 "nbformat": 4,
 "nbformat_minor": 4
}
